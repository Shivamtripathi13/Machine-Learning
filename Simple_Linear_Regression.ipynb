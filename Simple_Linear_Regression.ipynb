{
  "nbformat": 4,
  "nbformat_minor": 0,
  "metadata": {
    "colab": {
      "name": " Simple Linear Regression.ipynb",
      "provenance": [],
      "authorship_tag": "ABX9TyPaaER026JsV4txYNezJgKq",
      "include_colab_link": true
    },
    "kernelspec": {
      "name": "python3",
      "display_name": "Python 3"
    }
  },
  "cells": [
    {
      "cell_type": "markdown",
      "metadata": {
        "id": "view-in-github",
        "colab_type": "text"
      },
      "source": [
        "<a href=\"https://colab.research.google.com/github/Shivamtripathi13/Machine-Learning/blob/main/Simple_Linear_Regression.ipynb\" target=\"_parent\"><img src=\"https://colab.research.google.com/assets/colab-badge.svg\" alt=\"Open In Colab\"/></a>"
      ]
    },
    {
      "cell_type": "code",
      "metadata": {
        "id": "sBPV0vnoz6-K"
      },
      "source": [
        "import pandas as pd\n",
        "import numpy as np\n",
        "import matplotlib.pyplot as plt\n",
        "\n"
      ],
      "execution_count": 42,
      "outputs": []
    },
    {
      "cell_type": "code",
      "metadata": {
        "id": "V29C11vTl5IB"
      },
      "source": [
        "df = pd.read_csv('Salary_Data.csv')"
      ],
      "execution_count": 43,
      "outputs": []
    },
    {
      "cell_type": "code",
      "metadata": {
        "id": "an7lFeoutHe5"
      },
      "source": [
        "x = df.iloc[:, -1:].values\n",
        "y = df.iloc[:, 1:].values"
      ],
      "execution_count": 44,
      "outputs": []
    },
    {
      "cell_type": "code",
      "metadata": {
        "id": "5kyiNEuFt5B5"
      },
      "source": [
        "from sklearn.model_selection import train_test_split\n",
        "x_train , x_test , y_train , y_test = train_test_split(x,y,test_size=1/3 , random_state = 0)"
      ],
      "execution_count": 45,
      "outputs": []
    },
    {
      "cell_type": "code",
      "metadata": {
        "id": "hDKxUE8AJbRk",
        "outputId": "3d89b1f4-8cab-4aa1-9e1f-077e9bbae01c",
        "colab": {
          "base_uri": "https://localhost:8080/"
        }
      },
      "source": [
        "#fitting SLR to training set\n",
        "from sklearn.linear_model import LinearRegression\n",
        "regressor = LinearRegression()\n",
        "regressor.fit( x_train  , y_train)"
      ],
      "execution_count": 46,
      "outputs": [
        {
          "output_type": "execute_result",
          "data": {
            "text/plain": [
              "LinearRegression(copy_X=True, fit_intercept=True, n_jobs=None, normalize=False)"
            ]
          },
          "metadata": {
            "tags": []
          },
          "execution_count": 46
        }
      ]
    },
    {
      "cell_type": "code",
      "metadata": {
        "id": "hZT2oevQMo8J"
      },
      "source": [
        "#prdecting test set result\n",
        "y_pred = regressor.predict(x_train)"
      ],
      "execution_count": 47,
      "outputs": []
    },
    {
      "cell_type": "code",
      "metadata": {
        "id": "JYVUhMrPPSrT",
        "outputId": "1c1481b1-040b-4c9e-a29c-a0e17137a536",
        "colab": {
          "base_uri": "https://localhost:8080/",
          "height": 295
        }
      },
      "source": [
        "#visulasing the training set\n",
        "plt.scatter(x_train , y_train , color = 'red')\n",
        "plt.plot(x_train , regressor.predict(x_train) , color = 'blue')\n",
        "plt.title('salary vs experinece(Training set)')\n",
        "plt.xlabel('experience')\n",
        "plt.ylabel('salary')\n",
        "plt.show()\n",
        "#mistake in my training set"
      ],
      "execution_count": 48,
      "outputs": [
        {
          "output_type": "display_data",
          "data": {
            "image/png": "[encoded data removed]",
            "text/plain": [
              "<Figure size 432x288 with 1 Axes>"
            ]
          },
          "metadata": {
            "tags": [],
            "needs_background": "light"
          }
        }
      ]
    },
    {
      "cell_type": "code",
      "metadata": {
        "id": "fjLctUFKScvC",
        "outputId": "6de48d1c-a594-454c-9e3f-dc990ab54deb",
        "colab": {
          "base_uri": "https://localhost:8080/",
          "height": 295
        }
      },
      "source": [
        "#visulasing the test set\n",
        "plt.scatter(x_test , y_test , color = 'red')\n",
        "plt.plot(x_test , regressor.predict(x_test) , color = 'blue')\n",
        "plt.title('salary vs experinece(Test set)')\n",
        "plt.xlabel('experience')\n",
        "plt.ylabel('salary')\n",
        "plt.show()"
      ],
      "execution_count": 49,
      "outputs": [
        {
          "output_type": "display_data",
          "data": {
            "image/png": "[encoded data removed]",
            "text/plain": [
              "<Figure size 432x288 with 1 Axes>"
            ]
          },
          "metadata": {
            "tags": [],
            "needs_background": "light"
          }
        }
      ]
    }
  ]
}